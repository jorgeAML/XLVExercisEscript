{
 "cells": [
  {
   "cell_type": "code",
   "execution_count": 1,
   "id": "5f98c5f4",
   "metadata": {},
   "outputs": [],
   "source": [
    "from sympy import *"
   ]
  },
  {
   "cell_type": "code",
   "execution_count": 2,
   "id": "c50c1139",
   "metadata": {},
   "outputs": [],
   "source": [
    "x = symbols(\"x\")"
   ]
  },
  {
   "cell_type": "code",
   "execution_count": 3,
   "id": "eec10ccd",
   "metadata": {},
   "outputs": [],
   "source": [
    "f1 = x/sqrt(x**2+1)"
   ]
  },
  {
   "cell_type": "code",
   "execution_count": 4,
   "id": "56c05f04",
   "metadata": {},
   "outputs": [
    {
     "data": {
      "text/latex": [
       "$\\displaystyle \\frac{x}{\\sqrt{x^{2} + 1}}$"
      ],
      "text/plain": [
       "x/sqrt(x**2 + 1)"
      ]
     },
     "execution_count": 4,
     "metadata": {},
     "output_type": "execute_result"
    }
   ],
   "source": [
    "f1"
   ]
  },
  {
   "cell_type": "code",
   "execution_count": 5,
   "id": "39a9450b",
   "metadata": {},
   "outputs": [],
   "source": [
    "f2 = x**4-x"
   ]
  },
  {
   "cell_type": "code",
   "execution_count": 6,
   "id": "8a878c09",
   "metadata": {},
   "outputs": [
    {
     "data": {
      "text/latex": [
       "$\\displaystyle x^{4} - x$"
      ],
      "text/plain": [
       "x**4 - x"
      ]
     },
     "execution_count": 6,
     "metadata": {},
     "output_type": "execute_result"
    }
   ],
   "source": [
    "f2"
   ]
  },
  {
   "cell_type": "code",
   "execution_count": 8,
   "id": "2f7ef9be",
   "metadata": {},
   "outputs": [
    {
     "data": {
      "image/png": "[encoded data removed]",
      "text/plain": [
       "<Figure size 432x288 with 1 Axes>"
      ]
     },
     "metadata": {
      "needs_background": "light"
     },
     "output_type": "display_data"
    },
    {
     "data": {
      "text/plain": [
       "<sympy.plotting.plot.Plot at 0x2721a3d7a30>"
      ]
     },
     "execution_count": 8,
     "metadata": {},
     "output_type": "execute_result"
    }
   ],
   "source": [
    "plot(f1,f2,(x,-0.5,2),ylim=(-2,2))"
   ]
  },
  {
   "cell_type": "code",
   "execution_count": 9,
   "id": "2e41f60d",
   "metadata": {},
   "outputs": [],
   "source": [
    "s = nsolve(f1-f2,x,(1,2))"
   ]
  },
  {
   "cell_type": "code",
   "execution_count": 10,
   "id": "8d0cc872",
   "metadata": {},
   "outputs": [
    {
     "data": {
      "text/latex": [
       "$\\displaystyle 1.18077570310626$"
      ],
      "text/plain": [
       "1.18077570310626"
      ]
     },
     "execution_count": 10,
     "metadata": {},
     "output_type": "execute_result"
    }
   ],
   "source": [
    "s"
   ]
  },
  {
   "cell_type": "code",
   "execution_count": 11,
   "id": "63990cab",
   "metadata": {},
   "outputs": [
    {
     "data": {
      "text/latex": [
       "$\\displaystyle 0.785388550495564$"
      ],
      "text/plain": [
       "0.785388550495564"
      ]
     },
     "execution_count": 11,
     "metadata": {},
     "output_type": "execute_result"
    }
   ],
   "source": [
    "integrate(abs(f1-f2),(x,0,1.1807757))"
   ]
  },
  {
   "cell_type": "code",
   "execution_count": null,
   "id": "98468361",
   "metadata": {},
   "outputs": [],
   "source": []
  }
 ],
 "metadata": {
  "kernelspec": {
   "display_name": "Python 3 (ipykernel)",
   "language": "python",
   "name": "python3"
  },
  "language_info": {
   "codemirror_mode": {
    "name": "ipython",
    "version": 3
   },
   "file_extension": ".py",
   "mimetype": "text/x-python",
   "name": "python",
   "nbconvert_exporter": "python",
   "pygments_lexer": "ipython3",
   "version": "3.9.12"
  }
 },
 "nbformat": 4,
 "nbformat_minor": 5
}
