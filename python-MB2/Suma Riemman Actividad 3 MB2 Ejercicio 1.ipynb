{
 "cells": [
  {
   "cell_type": "code",
   "execution_count": 1,
   "id": "3b017c0d",
   "metadata": {},
   "outputs": [],
   "source": [
    "from sympy import *"
   ]
  },
  {
   "cell_type": "code",
   "execution_count": 2,
   "id": "df38d11f",
   "metadata": {},
   "outputs": [],
   "source": [
    "i = symbols(\"i\")"
   ]
  },
  {
   "cell_type": "code",
   "execution_count": 3,
   "id": "1638ed8e",
   "metadata": {},
   "outputs": [],
   "source": [
    "n = 30"
   ]
  },
  {
   "cell_type": "code",
   "execution_count": 5,
   "id": "36c0c32c",
   "metadata": {},
   "outputs": [],
   "source": [
    "delta = (2-0.5)/n"
   ]
  },
  {
   "cell_type": "code",
   "execution_count": 6,
   "id": "c4d06deb",
   "metadata": {},
   "outputs": [],
   "source": [
    "xi = 0.5+delta*i"
   ]
  },
  {
   "cell_type": "code",
   "execution_count": 7,
   "id": "89d61c0f",
   "metadata": {},
   "outputs": [
    {
     "data": {
      "text/latex": [
       "$\\displaystyle 2.719375$"
      ],
      "text/plain": [
       "2.71937500000000"
      ]
     },
     "execution_count": 7,
     "metadata": {},
     "output_type": "execute_result"
    }
   ],
   "source": [
    "summation(xi**2*delta,(i,1,n))"
   ]
  },
  {
   "cell_type": "code",
   "execution_count": null,
   "id": "77e4b5f5",
   "metadata": {},
   "outputs": [],
   "source": []
  }
 ],
 "metadata": {
  "kernelspec": {
   "display_name": "Python 3 (ipykernel)",
   "language": "python",
   "name": "python3"
  },
  "language_info": {
   "codemirror_mode": {
    "name": "ipython",
    "version": 3
   },
   "file_extension": ".py",
   "mimetype": "text/x-python",
   "name": "python",
   "nbconvert_exporter": "python",
   "pygments_lexer": "ipython3",
   "version": "3.9.12"
  }
 },
 "nbformat": 4,
 "nbformat_minor": 5
}
