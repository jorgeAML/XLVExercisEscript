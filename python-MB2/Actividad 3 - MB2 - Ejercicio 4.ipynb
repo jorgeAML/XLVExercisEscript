{
 "cells": [
  {
   "cell_type": "code",
   "execution_count": 1,
   "id": "f9b122da",
   "metadata": {},
   "outputs": [],
   "source": [
    "from sympy import *"
   ]
  },
  {
   "cell_type": "code",
   "execution_count": 2,
   "id": "c9e2e028",
   "metadata": {},
   "outputs": [],
   "source": [
    "x = symbols(\"x\")"
   ]
  },
  {
   "cell_type": "code",
   "execution_count": 25,
   "id": "3f5c242a",
   "metadata": {},
   "outputs": [],
   "source": [
    "radio = 2*pi*(pi/2-pi/5)"
   ]
  },
  {
   "cell_type": "code",
   "execution_count": 26,
   "id": "560d7523",
   "metadata": {},
   "outputs": [],
   "source": [
    "h = abs(sin(x)**2 - sin(x)**4)"
   ]
  },
  {
   "cell_type": "code",
   "execution_count": 27,
   "id": "278a0167",
   "metadata": {},
   "outputs": [],
   "source": [
    "v = integrate(radio*h,(x,pi/5))"
   ]
  },
  {
   "cell_type": "code",
   "execution_count": 28,
   "id": "42a23f8f",
   "metadata": {},
   "outputs": [
    {
     "data": {
      "text/latex": [
       "$\\displaystyle 5.92176264065361 \\int\\limits^{\\frac{\\pi}{5}} \\left|{\\sin^{4}{\\left(x \\right)} - \\sin^{2}{\\left(x \\right)}}\\right|\\, dx$"
      ],
      "text/plain": [
       "5.92176264065361*Integral(Abs(sin(x)**4 - sin(x)**2), (x, pi/5))"
      ]
     },
     "execution_count": 28,
     "metadata": {},
     "output_type": "execute_result"
    }
   ],
   "source": [
    "v.n()"
   ]
  },
  {
   "cell_type": "code",
   "execution_count": 21,
   "id": "9e5c8ea2",
   "metadata": {},
   "outputs": [
    {
     "data": {
      "text/latex": [
       "$\\displaystyle \\int\\limits^{\\frac{\\pi}{5}} \\left|{\\sin^{4}{\\left(x \\right)} - \\sin^{2}{\\left(x \\right)}}\\right|\\, dx$"
      ],
      "text/plain": [
       "Integral(Abs(sin(x)**4 - sin(x)**2), (x, pi/5))"
      ]
     },
     "execution_count": 21,
     "metadata": {},
     "output_type": "execute_result"
    }
   ],
   "source": [
    "integrate(h, (x, pi/5))"
   ]
  },
  {
   "cell_type": "code",
   "execution_count": 13,
   "id": "04982007",
   "metadata": {},
   "outputs": [],
   "source": [
    "integracion = 0.06 "
   ]
  },
  {
   "cell_type": "code",
   "execution_count": 14,
   "id": "20a76cd0",
   "metadata": {},
   "outputs": [
    {
     "name": "stdout",
     "output_type": "stream",
     "text": [
      "-3*pi**2*Integral(Abs(sin(x)**4 - sin(x)**2), (x, pi/5))/5\n"
     ]
    }
   ],
   "source": [
    "print(v)"
   ]
  },
  {
   "cell_type": "code",
   "execution_count": 24,
   "id": "e1d45837",
   "metadata": {},
   "outputs": [
    {
     "data": {
      "text/plain": [
       "0.35530572"
      ]
     },
     "execution_count": 24,
     "metadata": {},
     "output_type": "execute_result"
    }
   ],
   "source": [
    "5.921762*integracion"
   ]
  },
  {
   "cell_type": "code",
   "execution_count": null,
   "id": "9d7cc9c0",
   "metadata": {},
   "outputs": [],
   "source": []
  }
 ],
 "metadata": {
  "kernelspec": {
   "display_name": "Python 3 (ipykernel)",
   "language": "python",
   "name": "python3"
  },
  "language_info": {
   "codemirror_mode": {
    "name": "ipython",
    "version": 3
   },
   "file_extension": ".py",
   "mimetype": "text/x-python",
   "name": "python",
   "nbconvert_exporter": "python",
   "pygments_lexer": "ipython3",
   "version": "3.9.12"
  }
 },
 "nbformat": 4,
 "nbformat_minor": 5
}
